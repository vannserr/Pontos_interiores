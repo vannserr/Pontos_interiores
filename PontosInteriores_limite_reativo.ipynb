{
  "nbformat": 4,
  "nbformat_minor": 0,
  "metadata": {
    "colab": {
      "name": "PontosInteriores_limite_reativo",
      "provenance": []
    },
    "kernelspec": {
      "name": "python3",
      "display_name": "Python 3"
    },
    "language_info": {
      "name": "python"
    }
  },
  "cells": [
    {
      "cell_type": "code",
      "execution_count": null,
      "metadata": {
        "id": "V7QSg9x-s_x1"
      },
      "outputs": [],
      "source": [
        "from sympy import diff, Symbol\n",
        "import numpy as np\n",
        "import sympy as sp \n",
        "from sympy.matrices import hessian, zeros, ones\n",
        "import math "
      ]
    },
    {
      "cell_type": "code",
      "source": [
        "#\n",
        "\n",
        "Pg1, Pg2, Qg1, Qg2, V1, V2, del2 = sp.symbols('Pg1, Pg2, Qg1, Qg2, V1, V2, del2', float = True)\n",
        "s_inf_Pg1, s_sup_Pg1, s_inf_Pg2,  s_sup_Pg2,  s_inf_Qg1, s_sup_Qg1, s_inf_Qg2, s_sup_Qg2, s_inf_V1, s_inf_V2,  s_sup_V1, s_sup_V2 = sp.symbols('s_inf_Pg1, s_sup_Pg1, s_inf_Pg2,  s_sup_Pg2,  s_inf_Qg1, s_sup_Qg1, s_inf_Qg2, s_sup_Qg2, s_inf_V1, s_inf_V2,  s_sup_V1, s_sup_V2', float = True)\n",
        "Pi_inf_Pg1, Pi_inf_Pg2, Pi_inf_Qg1, Pi_inf_Qg2, Pi_inf_V1, Pi_inf_V2,  Pi_sup_Pg1, Pi_sup_Pg2, Pi_sup_Qg1, Pi_sup_Qg2, Pi_sup_V1, Pi_sup_V2 = sp.symbols('Pi_inf_Pg1, Pi_inf_Pg2, Pi_inf_Qg1, Pi_inf_Qg2, Pi_inf_V1, Pi_inf_V2,  Pi_sup_Pg1, Pi_sup_Pg2, Pi_sup_Qg1, Pi_sup_Qg2, Pi_sup_V1, Pi_sup_V2', float = True)\n",
        "lambda1, lambda2, lambda3, lambda4 = sp.symbols('lambda1, lambda2, lambda3, lambda4', float = True)\n",
        "\n"
      ],
      "metadata": {
        "id": "AkFgcQIxtw1W"
      },
      "execution_count": null,
      "outputs": []
    },
    {
      "cell_type": "code",
      "source": [
        "#Valores Iniciais\n",
        "\n",
        "#Valor do parámetro da barreira logaritmica\n",
        "mu=1\n",
        "#Valores iniciais das variáveis primais\n",
        "primais=[1,0.8,0.4,0.25,1,1,0] #  Pg1; Pg2; Qg1; Qg2; V1; V2; S2\n",
        "#Valores Iniciais dos ML\n",
        "Lambda=[1,1,1,1]\n",
        "Pi_inf=[1,1,1,1,1,1]\n",
        "Pi_sup=[1,1,1,1,1,1]\n",
        "#Valores Iniciales de s superiores e inferiores\n",
        "s_inf=[1,1,1,1,1,1]  \n",
        "s_sup=[1,1,1,1,1,1] \n",
        "#limites operativos \n",
        "Lim_max=[2,1.6,1.1,0.7,1.05,1.05]# limites maximos\n",
        "Lim_min=[0,0,-0.3,-0.2,0.95,0.95]# limites minimos"
      ],
      "metadata": {
        "id": "TS12N8pKNMk_"
      },
      "execution_count": null,
      "outputs": []
    },
    {
      "cell_type": "code",
      "source": [
        "#Função Objetivo\n",
        "\n",
        "def f(Qg1,Qg2):\n",
        "  f= ((Qg1^2)/1.1) + ((Qg2^2)/0.7)\n",
        "  return f"
      ],
      "metadata": {
        "id": "Gqy0g9I-77Fi"
      },
      "execution_count": null,
      "outputs": []
    },
    {
      "cell_type": "code",
      "source": [
        "#Construção do Gradiente\n",
        "#Pg1 Pg2 Qg1 Qg2 V1 V2 del2\n",
        "\n",
        "func_objetivo = ((Qg1**2)/1.1) + ((Qg2**2)/0.7)\n",
        "gradiente = [diff(func_objetivo,Pg1);\n",
        "             diff(func_objetivo,Pg2);\n",
        "             diff(func_objetivo,Qg1);\n",
        "             diff(func_objetivo,Qg2);\n",
        "             diff(func_objetivo,V1);\n",
        "             diff(func_objetivo,V2);\n",
        "             diff(func_objetivo,del2)]\n"
      ],
      "metadata": {
        "id": "X8iYKTVSA5yN"
      },
      "execution_count": null,
      "outputs": []
    },
    {
      "cell_type": "code",
      "source": [
        "#Construção da Hessiana\n",
        "H = hessian(func_objetivo,(Pg1, Pg2, Qg1, Qg2, V1, V2, del2))\n"
      ],
      "metadata": {
        "id": "RLbFKMtMB4Le"
      },
      "execution_count": null,
      "outputs": []
    },
    {
      "cell_type": "code",
      "source": [
        "#Restrições de Carga representadas pelo balanço de potência\n",
        "\n",
        "g1 = Pg1 - (10.811)*( 0.05*(V1)**2 - 0.05*(V1*V2)*math.cos(del2)-0.3*(V1*V2)*math.sin(del2))\n",
        "g2 = Qg1- 10.811*( 0.3*(V1)**2 - 0.3*(V1*V2)*math.cos(S2)+0.05*(V1*V2)*math.sin(del2) )\n",
        "g3 = Pg2 - 2.2 -10.811*( 0.05*(V2)**2 - 0.05*(V1*V2)*math.cos(del2) + 0.3*(V1*V2)*math.sin(del2) )\n",
        "g4 = Qg2 - 0.65 -10.811*( 0.3*(V2)**2 - 0.3*(V1*V2)*math.cos(del2) - 0.05*(V1*V2)*math.sin(del2) )\n"
      ],
      "metadata": {
        "id": "OqRNIVKXDoVf"
      },
      "execution_count": null,
      "outputs": []
    },
    {
      "cell_type": "code",
      "source": [
        "#de operação (limites físicos dos equipamentos de geração de potência ativa e reativa e de magnitude das tensões)\n",
        "#limites inferior ( s_inf ) e superior( s_sup )\n",
        "h1= Pg1 - s_inf_Pg1\n",
        "h2= Pg1 -2 + s_sup_Pg1\n",
        "h3= Pg2 - s_inf_Pg2\n",
        "h4= Pg2 -1.6 + s_sup_Pg2\n",
        "h5= Qg1 + 0.3 - s_inf_Qg1\n",
        "h6= Qg1 - 1.1 + s_sup_Qg1\n",
        "h7= Qg2 +0.2 -  s_inf_Qg2\n",
        "h8= Qg2 -0.7 + s_sup_Qg2\n",
        "h9= V1 - 0.95 -  s_inf_V1\n",
        "h10= V1 -1.05 + s_sup_V1\n",
        "h11= V2 - 0.95 - s_inf_V2\n",
        "h12= V2 -1.05 + s_sup_V2"
      ],
      "metadata": {
        "id": "f-Sf0F70HSNI"
      },
      "execution_count": null,
      "outputs": []
    },
    {
      "cell_type": "code",
      "source": [
        "#Construção das derivadas das restições de igualdade\n",
        "\n",
        "j1=[diff(g1,Pg1); diff(g1,Pg2); diff(g1,Qg1); diff(g1,Qg2); diff(g1,V1); diff(g1,V2); diff(g1,del2)]\n",
        "j2=[diff(g2,Pg1); diff(g2,Pg2); diff(g2,Qg1); diff(g2,Qg2); diff(g2,V1); diff(g2,V2); diff(g2,del2)]\n",
        "j3=[diff(g3,Pg1); diff(g3,Pg2); diff(g3,Qg1); diff(g3,Qg2); diff(g3,V1); diff(g3,V2); diff(g3,del2)]\n",
        "j4=[diff(g4,Pg1); diff(g4,Pg2); diff(g4,Qg1); diff(g4,Qg2); diff(g4,V1); diff(g4,V2); diff(g4,del2)]\n",
        "\n",
        "#Segundas derivas\n",
        "j1i = hessian(j1,(Pg1, Pg2, Qg1, Qg2, V1, V2, del2))\n",
        "j2i = hessian(j2,(Pg1, Pg2, Qg1, Qg2, V1, V2, del2))\n",
        "j3i = hessian(j3,(Pg1, Pg2, Qg1, Qg2, V1, V2, del2))\n",
        "j4i = hessian(j4,(Pg1, Pg2, Qg1, Qg2, V1, V2, del2))\n",
        "\n",
        "J_segunda = [j1i,j2i,j3i,j4i]"
      ],
      "metadata": {
        "id": "cYBFb4LxKgLc"
      },
      "execution_count": null,
      "outputs": []
    },
    {
      "cell_type": "code",
      "source": [
        "#Loop de solução do Método\n",
        "e1 = 10**(-4)\n",
        "e2 = 10**(-7)\n",
        "k=0 #número de iterações\n",
        "\n",
        "while ( grad_norm <=e1): \n",
        "\n",
        "  #Considerando o sistema a solucionar como sendo da forma Ax=-b\n",
        "  A=[primais;Lambda;Pi_inf;Pi_sup;s_inf;s_sup] #  7+4+6+6+6+6=35    \n",
        "\n",
        "  H1=(Lambda[1]*sG1(A[1],A[2],A[3],A[4],A[5],A[6],A[7]))\n",
        "  H2=(Lambda[2]*sG2(A[1],A[2],A[3],A[4],A[5],A[6],A[7]))\n",
        "  H3=(Lambda[3]*sG3(A[1],A[2],A[3],A[4],A[5],A[6],A[7]))\n",
        "  H4=(Lambda[4]*sG4(A[1],A[2],A[3],A[4],A[5],A[6],A[7]))\n",
        "\n",
        "  conta=H1+H2+H3+H4 # somatoria da equação de H\n",
        "  #Formação da Hessiana\n",
        "  H=(J_segunda(A[1],A[2],A[3],A[4],A[5],A[6],A[7]) - conta) \n",
        "  #Formação do Jacobiano\n",
        "  J=(J_segunda(A[1],A[2],A[3],A[4],A[5],A[6],A[7])) # matriz j(x)  4x7\n",
        "  #matriz diagonal dos Pi's  inferiores \n",
        "  mPi_L=diag(A[12:17])  #   \n",
        "  #matriz diagonal dos Pi's   superiors  \n",
        "  mPi_U=diag(A[18:23])  \n",
        "  \n",
        "  # matriz diagonal  dos s superiores    \n",
        "  s_inf=diag(s_inf) \n",
        "  # matriz diagonal  dos s inferiores   \n",
        "  s_sup=diag(s_sup)    \n",
        "  # matriz identidade\n",
        "  U=eye(6)             \n",
        "\n",
        "\n",
        " # formaçao de gradinte  da derivada de Lagrangeana completa\n",
        "\n",
        "  t= ((Df(a(1),a(2),a(3),a(4),a(5),a(6),a(7)))  - (J)*Lambda  -  (dh)*( Pi_inf + Pi_sup));\n",
        "  ds_inf=mu*ones(6,1) -s_inf*Pi_inf #  derivada em relaçao a SL\n",
        "  ds_sup=mu*ones(6,1) +s_sup*Pi_sup # derivada em relaçao a SU\n",
        "  dLambda=-(g(a(1),a(2),a(3),a(4),a(5),a(6),a(7))) # derivada em relaçao a Lambda\n",
        "  dPi_inf=-( a(1:6) - s_inf - Lim_min)# derivada em relaçao a Pi's inferiores\n",
        "  dPi_sup=-( a(1:6) + s_sup - Lim_max)# derivada em relaçao a Pi's superiores\n",
        "\n",
        " #vetor da derivada da Lagrangeana completa.\n",
        "  B=([t;ds_inf;ds_sup;dLambda;dPi_inf;dPi_sup])\n",
        " #maior valor da derivada de Lagrangeana aumentada\n",
        "  bmax=max(abs(B)) \n",
        "\n",
        "  Resultado=zeros(1,38)\n",
        "  #acumula o resultado das iterações\n",
        "  Resultado = [k, A[1:35], mu, bmax] \n",
        "\n",
        "#formaçao da matriz  W   \n",
        "#Contem\n",
        "\n",
        "  W=[[ H        ,  zeros(7,6) ,   zeros(7,6) ,  -J   ,    -dh   ,      -dh];\n",
        "    [zeros(6,7) ,  -mPi_L     ,   zeros(6)  , zeros(6,4),   -s_inf   ,     zeros(6)];\n",
        "    [zeros(6,7) ,  zeros(6)    ,   mPi_U  ,   zeros(6,4) ,  zeros(6) ,    s_sup ];\n",
        "    [-J         ,  zeros(4,6)  ,  zeros(4,6) ,zeros(4,4) ,  zeros(4,6) , zeros(4,6) ];\n",
        "    [-dh        ,  U           ,  zeros(6)  , zeros(6,4)  ,  zeros(6)  ,  zeros(6) ];\n",
        "    [-dh        ,  zeros(6)    ,   -U      , zeros(6,4)   , zeros(6)  ,  zeros(6) ] ]\n",
        "\n",
        "\n",
        "#Calculo dos incrementos nas variaveis\n",
        "\n",
        "#vetor incremento nas variaveis 35x1\n",
        "  delta=(np.linalg.inv(W)*(-B)) \n",
        "#Incrementos pra da variável\n",
        "  delta_primais=delta[1:7].values\n",
        "  delta_sinf=delta[8:13].values\n",
        "  delta_sup=delta[14:19].values\n",
        "  delta_lambda=delta[20:23].values\n",
        "  delta_Pinf=delta[24:29].values\n",
        "  delta_Pisup=delta[30:35].values\n",
        "\n",
        "# comprimentos dos passos nos espaços  primal e dual \n",
        "  i=1  \n",
        "  pL=0\n",
        "  pU=0\n",
        "  DL=0;\n",
        "  DU=0;\n",
        "  auxDL=[1,1,1,1,1,1]\n",
        "  auxDU=[1,1,1,1,1,1]\n",
        "  auxPL=[1,1,1,1,1,1]\n",
        "  auxPU=[1,1,1,1,1,1]\n",
        "\n",
        "  while(i<=6)\n",
        "\n",
        "       if( delta_sinf(i) <0 ):\n",
        "             pL=pL+1\n",
        "            auxPL(pL)=(s_inf(i))/(norm(delta_sinf(i)))\n",
        "       \n",
        "\n",
        "       if( delta_sup(i)<0 ):\n",
        "             pU=pU+1\n",
        "            auxPU(pU)=(s_sup(i))/(norm(delta_sup(i)))\n",
        "\n",
        "     if( delta_Piinf(D)<0 ):\n",
        "           DL=DL+1\n",
        "          auxDL(DL)=(PiL(i))/(norm(delta_Pinf(i)))\n",
        "       \n",
        "\n",
        "       if( delta_Pisup(i)>0 ):\n",
        "           DU=DU+1\n",
        "          auxDU(DU)=(-PiU(i))/(norm(delta_Pisup(i)))\n",
        "\n",
        "    i=i+1\n",
        " \n",
        "  auxP=[min(auxPL) min(auxPU) 1]\n",
        "  gamma_p=min(auxP) # comprimento de passo primal\n",
        "\n",
        "  gamma_d=min([min(auxDL), min(auxDU), 1])#   comprimento de passo dual\n",
        "  auxD=[min(auxDL), min(auxDU) 1]\n",
        "  \n",
        " # atualizaçao das variaveis\n",
        "\n",
        "#primal\n",
        "  primal=A[1:7] + 0.9995*gamma_p*delta_primais\n",
        "  s_inf=A[24:29] + 0.9995*gamma_p*delta_sinf\n",
        "  s_sup=A[30:35] + 0.9995*gamma_p*delta_sup\n",
        "\n",
        "#dual\n",
        "  Lambda= A[8:11] +  0.9995*gamma_d*delta_Lambda\n",
        "  Pi_inf =A[12:17] + 0.9995*gamma_d*delta_Pinf\n",
        "  Pi_sup =A[18:23] + 0.9995*gamma_d*delta_Pisup\n",
        "\n",
        "#calculo de mu\n",
        "#Beta = 10\n",
        "\n",
        "  mu=(((s_inf)*Pi_inf - (sig_sup)*Pi_sup)/(2*6*10))\n",
        "\n",
        "#Calcula o a norma do gradiente\n",
        "  grad_norm = np.linalg.norm(gradiente) \n",
        "\n",
        "  k=k+1 #Aumento da variable de iteração\n",
        "  #Da um Break no codigo caso o mu alcance a convergência estipulada\n",
        "  if  (mu<=e2):\n",
        "    break\n",
        "\n"
      ],
      "metadata": {
        "id": "CtqQoO7jLtAX"
      },
      "execution_count": null,
      "outputs": []
    },
    {
      "cell_type": "code",
      "source": [
        "#Impressão dos resultado\n",
        "print('matriz dos resultados \\n')\n",
        "print('Resultados das variáveis do problema inicial:\\n Niter  Pg1    Pg2     Qg1      Qg2     V1     V2     del2 \\n')\n",
        "print(Resutados[1:8]) \n",
        "print('Resultados ML balanço de potência:\\n Lambda1    Lambda2    Lambda3     Lambda4\\n')\n",
        "print(Resutados[9:13]) \n",
        "print('Resultados ML pi inferiores:\\n')\n",
        "print(Resutados[14:18]) \n",
        "print('Resultados ML pi superiores:\\n')\n",
        "print(Resutados[19:24]) \n",
        "print('Resultados variáveis auxiliares inferiores:\\n')\n",
        "print(Resutados[25:30]) \n",
        "print('Resultados variáveis auxiliares superiores:\\n')\n",
        "print(Resutados[31:36]) \n",
        "print('Resultados mu:\\n')\n",
        "print(Resutados[37]) \n",
        "\n"
      ],
      "metadata": {
        "id": "LcPbRcLp7Gxl"
      },
      "execution_count": null,
      "outputs": []
    }
  ]
}